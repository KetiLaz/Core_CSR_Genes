{
  "nbformat": 4,
  "nbformat_minor": 0,
  "metadata": {
    "colab": {
      "provenance": [],
      "authorship_tag": "ABX9TyPVj9PjwQ4jDlfw7lXGi1xa",
      "include_colab_link": true
    },
    "kernelspec": {
      "name": "python3",
      "display_name": "Python 3"
    },
    "language_info": {
      "name": "python"
    }
  },
  "cells": [
    {
      "cell_type": "markdown",
      "metadata": {
        "id": "view-in-github",
        "colab_type": "text"
      },
      "source": [
        "<a href=\"https://colab.research.google.com/github/KetiLaz/Core_CSR_Genes/blob/main/Bootstrap_Analysis.ipynb\" target=\"_parent\"><img src=\"https://colab.research.google.com/assets/colab-badge.svg\" alt=\"Open In Colab\"/></a>"
      ]
    },
    {
      "cell_type": "markdown",
      "source": [
        "# Bootstrap\n",
        "\n",
        "This script will randomly choose 51 genes from a CSV file - from this choice genes extracted from Darling are excluded.  These 51 genes will be considered the control genes.\n",
        "Then it will find the p-values and the percentage of genes with pvalues < 0.05 for each study.\n",
        "Finally, it will make a paired t-test analysis of the overall percentages for control and core genes to see if there is a statistically signficant difference between them.\n",
        "All of the above will iterate 100 times."
      ],
      "metadata": {
        "id": "PsSw22SNLCVz"
      }
    },
    {
      "cell_type": "code",
      "execution_count": null,
      "metadata": {
        "id": "aTys5rBUKoeD",
        "colab": {
          "base_uri": "https://localhost:8080/"
        },
        "outputId": "8a6ef6ac-0720-4f10-f0e0-21cdafef9a00"
      },
      "outputs": [
        {
          "output_type": "stream",
          "name": "stdout",
          "text": [
            "Mounted at /content/drive\n"
          ]
        }
      ],
      "source": [
        "#Mount google drive\n",
        "from google.colab import drive\n",
        "drive.mount('/content/drive')"
      ]
    },
    {
      "cell_type": "code",
      "source": [
        "#Import libraries\n",
        "import pandas as pd\n",
        "import os\n",
        "import random\n",
        "import numpy as np"
      ],
      "metadata": {
        "id": "1voTTmYTBtjv"
      },
      "execution_count": null,
      "outputs": []
    },
    {
      "cell_type": "code",
      "source": [
        "# Set a seed for reproducibility\n",
        "np.random.seed(42)\n",
        "random.seed(42)"
      ],
      "metadata": {
        "id": "VAMaYZaU95Es"
      },
      "execution_count": null,
      "outputs": []
    },
    {
      "cell_type": "code",
      "source": [
        "# Function to process each of the edgeR CSV files, in order to find how many of the chosen control genes are present in each study, the count and percentage of the statistically significant genes\n",
        "def process_conrtol_genes(csv_file, control_genes):\n",
        "    # Read CSV file\n",
        "    df = pd.read_csv(csv_file, sep=\";\")\n",
        "    # Check how many of the control genes are present in the file\n",
        "    present_genes = df[df['Ensembl ID'].isin(control_genes)]\n",
        "    num_genes_present = len(present_genes)\n",
        "    # Check how many genes have PValue < 0.05\n",
        "    num_genes_pvalue_lt_05 = len(present_genes[present_genes['PValue'] < 0.05])\n",
        "    # Calculate the percentage\n",
        "    percentage = (num_genes_pvalue_lt_05 / len(control_genes)) * 100\n",
        "    # Return results\n",
        "    return num_genes_present, num_genes_pvalue_lt_05, percentage"
      ],
      "metadata": {
        "id": "UuzVCuG1Bv8n"
      },
      "execution_count": null,
      "outputs": []
    },
    {
      "cell_type": "code",
      "source": [
        "# Directory containing CSV files to iterate through\n",
        "data_dir = \"/content/drive/MyDrive/Διπλωματική/Final_files/edgeR_csv\"\n",
        "\n",
        "#The gene to be excluded from the random selection\n",
        "exclusion_genes_file = \"/content/drive/MyDrive/Διπλωματική/Mesh Search/all_response_genes.csv\"\n",
        "\n",
        "# Get a list of all the edgeR CSV files in the directory\n",
        "csv_files = [file for file in os.listdir(data_dir) if file.endswith(\".csv\")]\n",
        "\n",
        "#The directory where the results will be stored as csv files\n",
        "output_dir = \"/content/drive/MyDrive/Διπλωματική/Final_files/Bootstrap\""
      ],
      "metadata": {
        "id": "fXAFy_bMCbF8"
      },
      "execution_count": null,
      "outputs": []
    },
    {
      "cell_type": "code",
      "source": [
        "# Read the csv file that contain the genes that will be excluded from the control genes selection\n",
        "exclusion_genes_df = pd.read_csv(exclusion_genes_file, sep = \";\")\n",
        "\n",
        "# Get a list of genes to exclude\n",
        "exclude_genes = exclusion_genes_df['Ensembl ID'].tolist()\n"
      ],
      "metadata": {
        "id": "ATeu4ZExitwT"
      },
      "execution_count": null,
      "outputs": []
    },
    {
      "cell_type": "code",
      "source": [
        "# Perform 100 iterations of the bootstrap analysis\n",
        "for i in range(100):\n",
        "    # Randomly select 51 genes from a random CSV file, excluding the genes extracted from Darling\n",
        "    random_edgeR_file = random.choice(csv_files)\n",
        "    random_edgeR_file_path = os.path.join(data_dir, random_edgeR_file)\n",
        "    df = pd.read_csv(random_edgeR_file_path, sep=\";\")\n",
        "    available_genes = df[~df['Ensembl ID'].isin(exclude_genes)]['Ensembl ID'].tolist()\n",
        "    control_genes = random.sample(available_genes, min(51, len(available_genes)))\n",
        "\n",
        "    # Initialize a list to store results for the current iteration\n",
        "    results = []\n",
        "\n",
        "    # Iterate through other CSV files\n",
        "    for csv_file in csv_files:\n",
        "        study_name = os.path.splitext(csv_file)[0]\n",
        "        csv_file_path = os.path.join(data_dir, csv_file)\n",
        "        # Process CSV file\n",
        "        num_genes_present, num_genes_pvalue_lt_05, percentage = process_conrtol_genes(csv_file_path, control_genes)\n",
        "        # Append results\n",
        "        results.append({\"Study Name\": study_name,\n",
        "                        \"Genes Present\": num_genes_present,\n",
        "                        \"PValue < 0.05\": num_genes_pvalue_lt_05,\n",
        "                        \"Percentage\": percentage})\n",
        "\n",
        "    # Create DataFrame from results\n",
        "    control_genes_df = pd.DataFrame(results)\n",
        "\n",
        "    # Generate output file path for the current iteration\n",
        "    output_file_path = os.path.join(output_dir, f\"iteration_{i+1}.csv\")\n",
        "\n",
        "    # Write results to a CSV file\n",
        "    control_genes_df.to_csv(output_file_path, index=False)"
      ],
      "metadata": {
        "id": "OTaBsgmBC1wR"
      },
      "execution_count": null,
      "outputs": []
    },
    {
      "cell_type": "markdown",
      "source": [
        "# Paired t-test\n",
        "\n",
        "After the previous script we will now use paired t-test for each iteration of control genes and the core stress genes.\n",
        "Basically we will see if there is a statistically significant difference between the percentages of PValue < 0.05 for control and core genes"
      ],
      "metadata": {
        "id": "5QOj_efVRm2C"
      }
    },
    {
      "cell_type": "code",
      "source": [
        "from scipy.stats import ttest_rel"
      ],
      "metadata": {
        "id": "0hNSN852X94U"
      },
      "execution_count": null,
      "outputs": []
    },
    {
      "cell_type": "code",
      "source": [
        "# Directory containing the control gene files (output files from previous iterations)\n",
        "control_files_dir = \"/content/drive/MyDrive/Διπλωματική/Final_files/Bootstrap\"\n",
        "\n",
        "# File path of the core stress genes file\n",
        "core_genes_file_path = \"/content/drive/MyDrive/Διπλωματική/Final_files/core_summary.csv\""
      ],
      "metadata": {
        "id": "ftKlalgIgONU"
      },
      "execution_count": null,
      "outputs": []
    },
    {
      "cell_type": "code",
      "source": [
        "# Read the core stress genes file into a DataFrame\n",
        "core_genes_df = pd.read_csv(core_genes_file_path, sep=\";\")\n",
        "\n",
        "# Initialize a dictionary to store the results of t-tests\n",
        "t_test_results = {}\n",
        "\n",
        "# Initialize a counter for statistically significant differences\n",
        "significant_diff_count = 0"
      ],
      "metadata": {
        "colab": {
          "base_uri": "https://localhost:8080/"
        },
        "id": "nFlZJRvsg-9T",
        "outputId": "5c0e6bf0-dae6-47f4-84c1-1b90c0950945"
      },
      "execution_count": null,
      "outputs": [
        {
          "output_type": "execute_result",
          "data": {
            "text/plain": [
              "Index(['Study Name', 'Genes Present', 'PValue < 0.05', 'Percentage'], dtype='object')"
            ]
          },
          "metadata": {},
          "execution_count": 10
        }
      ]
    },
    {
      "cell_type": "code",
      "source": [
        "# Iterate through each control gene file\n",
        "for control_file in os.listdir(control_files_dir):\n",
        "    if control_file.endswith(\".csv\"):\n",
        "        # Read the control gene file into a DataFrame\n",
        "        control_file_path = os.path.join(control_files_dir, control_file)\n",
        "        control_df = pd.read_csv(control_file_path)\n",
        "\n",
        "        # Extract the study name to use as a key for the t-test results dictionary\n",
        "        study_name = os.path.splitext(control_file)[0]\n",
        "\n",
        "        # Perform a paired t-test with the core stress genes file based on the \"Percentage\" column\n",
        "        t_statistic, p_value = ttest_rel(control_df['Percentage'], core_genes_df['Percentage'])\n",
        "\n",
        "        # Store the t-test results in the dictionary\n",
        "        t_test_results[study_name] = {'t_statistic': t_statistic, 'p_value': p_value}\n",
        "\n",
        "        # Check if the p-value is less than 0.05\n",
        "        if p_value < 0.05:\n",
        "            significant_diff_count += 1"
      ],
      "metadata": {
        "id": "j2mbf28ThEae"
      },
      "execution_count": null,
      "outputs": []
    },
    {
      "cell_type": "code",
      "source": [
        "# Convert the dictionary to a DataFrame\n",
        "t_test_results_df = pd.DataFrame.from_dict(t_test_results, orient='index')\n",
        "\n",
        "# Save the t-test results to a CSV file\n",
        "t_test_results_df.to_csv(\"/content/drive/MyDrive/Διπλωματική/Final_files/t_test_results.csv\")\n",
        "\n",
        "# Print the number of control files with statistically significant differences\n",
        "print(f\"{significant_diff_count} out of {len(os.listdir(control_files_dir))} had statistically significant differences.\")"
      ],
      "metadata": {
        "colab": {
          "base_uri": "https://localhost:8080/"
        },
        "id": "vf1TXZpihFmG",
        "outputId": "3d4abdaa-950f-4153-87aa-4dd2c0bc0bb3"
      },
      "execution_count": null,
      "outputs": [
        {
          "output_type": "stream",
          "name": "stdout",
          "text": [
            "100 out of 100 had statistically significant differences.\n"
          ]
        }
      ]
    },
    {
      "cell_type": "markdown",
      "source": [
        "# Parameters and Statistics for the Bootstrap Analysis\n",
        "We will calculate the statistics of the bootstrap analysis (the mean, median and standard deviation)"
      ],
      "metadata": {
        "id": "Tf_YerbdnTSF"
      }
    },
    {
      "cell_type": "code",
      "source": [
        "# File path of the CSV file containing T-statistics and P-values\n",
        "csv_file_path = \"/content/drive/MyDrive/Διπλωματική/Final_files/t_test_results.csv\""
      ],
      "metadata": {
        "id": "qbGUBsZAuOum"
      },
      "execution_count": null,
      "outputs": []
    },
    {
      "cell_type": "code",
      "source": [
        "# Read the CSV file into a DataFrame\n",
        "bootstrap_results = pd.read_csv(csv_file_path)"
      ],
      "metadata": {
        "id": "iznAvl3duxn_"
      },
      "execution_count": null,
      "outputs": []
    },
    {
      "cell_type": "code",
      "source": [
        "# Extract T-statistics and P-values from the DataFrame\n",
        "t_statistics = bootstrap_results['t_statistic']\n",
        "p_values = bootstrap_results['p_value']"
      ],
      "metadata": {
        "id": "NTWaL8FbuqQv"
      },
      "execution_count": null,
      "outputs": []
    },
    {
      "cell_type": "code",
      "source": [
        "# Calculate mean, median, and standard deviation of T-statistic\n",
        "mean_t_statistic = np.mean(t_statistics)\n",
        "median_t_statistic = np.median(t_statistics)\n",
        "std_t_statistic = np.std(t_statistics)"
      ],
      "metadata": {
        "id": "xUbygAk-u3-x"
      },
      "execution_count": null,
      "outputs": []
    },
    {
      "cell_type": "code",
      "source": [
        "# Calculate mean, median, and standard deviation of P-value\n",
        "mean_p_value = np.mean(p_values)\n",
        "median_p_value = np.median(p_values)\n",
        "std_p_value = np.std(p_values)"
      ],
      "metadata": {
        "id": "EWf_s7you7BT"
      },
      "execution_count": null,
      "outputs": []
    },
    {
      "cell_type": "code",
      "source": [
        "# Print the calculated statistics\n",
        "print(\"Mean T-Statistic:\", mean_t_statistic)\n",
        "print(\"Median T-Statistic:\", median_t_statistic)\n",
        "print(\"Standard Deviation of T-Statistic:\", std_t_statistic)\n",
        "print(\"Mean P-Value:\", mean_p_value)\n",
        "print(\"Median P-Value:\", median_p_value)\n",
        "print(\"Standard Deviation of P-Value:\", std_p_value)"
      ],
      "metadata": {
        "id": "AzqOL1XHu8fl",
        "outputId": "4448b083-e78f-4818-ff92-25c4fd5442e3",
        "colab": {
          "base_uri": "https://localhost:8080/"
        }
      },
      "execution_count": null,
      "outputs": [
        {
          "output_type": "stream",
          "name": "stdout",
          "text": [
            "Mean T-Statistic: -8.71501494373564\n",
            "Median T-Statistic: -8.574179636226972\n",
            "Standard Deviation of T-Statistic: 1.3823250761732524\n",
            "Mean P-Value: 1.8566834004916785e-08\n",
            "Median P-Value: 3.621009452065445e-13\n",
            "Standard Deviation of P-Value: 1.5284812735177514e-07\n"
          ]
        }
      ]
    }
  ]
}