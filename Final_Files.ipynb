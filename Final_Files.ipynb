{
  "nbformat": 4,
  "nbformat_minor": 0,
  "metadata": {
    "colab": {
      "provenance": [],
      "authorship_tag": "ABX9TyMM0RQMc1iJTpcSutDPxgNS",
      "include_colab_link": true
    },
    "kernelspec": {
      "name": "python3",
      "display_name": "Python 3"
    },
    "language_info": {
      "name": "python"
    }
  },
  "cells": [
    {
      "cell_type": "markdown",
      "metadata": {
        "id": "view-in-github",
        "colab_type": "text"
      },
      "source": [
        "<a href=\"https://colab.research.google.com/github/KetiLaz/Core_CSR_Genes/blob/main/Final_Files.ipynb\" target=\"_parent\"><img src=\"https://colab.research.google.com/assets/colab-badge.svg\" alt=\"Open In Colab\"/></a>"
      ]
    },
    {
      "cell_type": "code",
      "execution_count": 1,
      "metadata": {
        "colab": {
          "base_uri": "https://localhost:8080/"
        },
        "id": "BunhCsHa9VIZ",
        "outputId": "2e70e72f-eb79-40cf-8363-66d74519211d"
      },
      "outputs": [
        {
          "output_type": "stream",
          "name": "stdout",
          "text": [
            "Mounted at drive/\n"
          ]
        }
      ],
      "source": [
        "# Mount google drive\n",
        "from google.colab import drive\n",
        "drive.mount('drive/')"
      ]
    },
    {
      "cell_type": "code",
      "source": [
        "#Import libraries\n",
        "import pandas as pd\n",
        "import os"
      ],
      "metadata": {
        "id": "Of8C3p44-UMm"
      },
      "execution_count": 2,
      "outputs": []
    },
    {
      "cell_type": "markdown",
      "source": [],
      "metadata": {
        "id": "QCqZP0AFa-_a"
      }
    },
    {
      "cell_type": "markdown",
      "source": [
        "# Find which of the 70 core stress genes mined using Darling are present in the edgeR files of the RNA-seq stress related studies"
      ],
      "metadata": {
        "id": "6WkIzLhvFBRZ"
      }
    },
    {
      "cell_type": "code",
      "source": [
        "# Define a function to perform the comparison between the edgeR files and the core stress reponse genes and save the results\n",
        "def perform_comparison(edgeR_file, core_genes_file, output_file):\n",
        "    # Import data\n",
        "    edgeR_data = pd.read_csv(edgeR_file, sep=';')\n",
        "    core_genes_data = pd.read_csv(core_genes_file, sep=';')\n",
        "\n",
        "    # Merge data\n",
        "    merged_data = pd.merge(core_genes_data, edgeR_data, on='Ensembl ID', how='inner', suffixes=('_core', '_edgeR'))\n",
        "\n",
        "    # Save results\n",
        "    merged_data.to_csv(output_file, index=False)\n",
        "    print(f\"Comparison results saved to: {output_file}\")"
      ],
      "metadata": {
        "id": "5cbLa4CuSnrm"
      },
      "execution_count": null,
      "outputs": []
    },
    {
      "cell_type": "code",
      "source": [
        "# Directory containing edgeR files\n",
        "edgeR_directory = '/content/drive/MyDrive/Διπλωματική/Final_files/edgeR_csv'\n",
        "\n",
        "# File of the core stress response genes\n",
        "core_genes_file = '/content/drive/MyDrive/Διπλωματική/Mesh Search/unique_core_genes_all_responses.csv'\n",
        "\n",
        "# Output directory for results\n",
        "output_directory = '/content/drive/MyDrive/Διπλωματική/Final_files/Results/'"
      ],
      "metadata": {
        "id": "hwSXdgB2SrxY"
      },
      "execution_count": null,
      "outputs": []
    },
    {
      "cell_type": "code",
      "source": [
        "# Iterate over each edgeR file using the comparison function created above\n",
        "for filename in os.listdir(edgeR_directory):\n",
        "    if filename.endswith(\".csv\"):\n",
        "        edgeR_file = os.path.join(edgeR_directory, filename)\n",
        "        output_file = os.path.join(output_directory, f\"{os.path.splitext(filename)[0]}_core.csv\")\n",
        "        perform_comparison(edgeR_file, core_genes_file, output_file)"
      ],
      "metadata": {
        "colab": {
          "base_uri": "https://localhost:8080/"
        },
        "id": "h4QRbGRUTB6t",
        "outputId": "7f76701a-1f26-4910-e1ca-09d611dcef40"
      },
      "execution_count": null,
      "outputs": [
        {
          "output_type": "stream",
          "name": "stdout",
          "text": [
            "Comparison results saved to: /content/drive/MyDrive/Διπλωματική/Final_files/Results/edgeR_output_h2o2_GSE58910_193_core.csv\n",
            "Comparison results saved to: /content/drive/MyDrive/Διπλωματική/Final_files/Results/edgeR_output_h2o2_GSE59233_180_core.csv\n",
            "Comparison results saved to: /content/drive/MyDrive/Διπλωματική/Final_files/Results/edgeR_output_h2o2_GSE72991_137_core.csv\n",
            "Comparison results saved to: /content/drive/MyDrive/Διπλωματική/Final_files/Results/edgeR_output_h2o2_GSE72991_146_core.csv\n",
            "Comparison results saved to: /content/drive/MyDrive/Διπλωματική/Final_files/Results/edgeR_output_h2o2_GSE75962_183_core.csv\n",
            "Comparison results saved to: /content/drive/MyDrive/Διπλωματική/Final_files/Results/edgeR_output_h2o2_GSE104664_177_core.csv\n",
            "Comparison results saved to: /content/drive/MyDrive/Διπλωματική/Final_files/Results/edgeR_output_h2o2_GSE113171_168_core.csv\n",
            "Comparison results saved to: /content/drive/MyDrive/Διπλωματική/Final_files/Results/edgeR_output_h2o2_GSE138290_148_core.csv\n",
            "Comparison results saved to: /content/drive/MyDrive/Διπλωματική/Final_files/Results/edgeR_output_h2o2_GSE143155_152_core.csv\n",
            "Comparison results saved to: /content/drive/MyDrive/Διπλωματική/Final_files/Results/edgeR_output_h2o2_GSE143155_154_core.csv\n",
            "Comparison results saved to: /content/drive/MyDrive/Διπλωματική/Final_files/Results/edgeR_output_h2o2_GSE143155_156_core.csv\n",
            "Comparison results saved to: /content/drive/MyDrive/Διπλωματική/Final_files/Results/edgeR_output_h2o2_GSE143155_157_core.csv\n",
            "Comparison results saved to: /content/drive/MyDrive/Διπλωματική/Final_files/Results/edgeR_output_h2o2_GSE143155_158_core.csv\n",
            "Comparison results saved to: /content/drive/MyDrive/Διπλωματική/Final_files/Results/edgeR_output_h2o2_GSE147012_116_core.csv\n",
            "Comparison results saved to: /content/drive/MyDrive/Διπλωματική/Final_files/Results/edgeR_output_h2o2_GSE158909_122_core.csv\n",
            "Comparison results saved to: /content/drive/MyDrive/Διπλωματική/Final_files/Results/edgeR_output_h2o2_GSE158909_123_core.csv\n",
            "Comparison results saved to: /content/drive/MyDrive/Διπλωματική/Final_files/Results/edgeR_output_h2o2_GSE160702_149_core.csv\n",
            "Comparison results saved to: /content/drive/MyDrive/Διπλωματική/Final_files/Results/edgeR_output_h2o2_GSE160702_150_core.csv\n",
            "Comparison results saved to: /content/drive/MyDrive/Διπλωματική/Final_files/Results/edgeR_output_h2o2_GSE160702_151_core.csv\n",
            "Comparison results saved to: /content/drive/MyDrive/Διπλωματική/Final_files/Results/edgeR_output_h2o2_GSE164742_124_core.csv\n",
            "Comparison results saved to: /content/drive/MyDrive/Διπλωματική/Final_files/Results/edgeR_output_h2o2_GSE164742_126_core.csv\n",
            "Comparison results saved to: /content/drive/MyDrive/Διπλωματική/Final_files/Results/edgeR_output_h2o2_GSE173806_118_core.csv\n",
            "Comparison results saved to: /content/drive/MyDrive/Διπλωματική/Final_files/Results/edgeR_output_h2o2_GSE173806_119_core.csv\n",
            "Comparison results saved to: /content/drive/MyDrive/Διπλωματική/Final_files/Results/edgeR_output_h2o2_GSE185324_111_core.csv\n",
            "Comparison results saved to: /content/drive/MyDrive/Διπλωματική/Final_files/Results/edgeR_output_h2o2_GSE185324_112_core.csv\n",
            "Comparison results saved to: /content/drive/MyDrive/Διπλωματική/Final_files/Results/edgeR_output_h2o2_GSE188458_113_core.csv\n",
            "Comparison results saved to: /content/drive/MyDrive/Διπλωματική/Final_files/Results/edgeR_output_h2o2_GSE193887_129_core.csv\n",
            "Comparison results saved to: /content/drive/MyDrive/Διπλωματική/Final_files/Results/edgeR_output_h2o2_GSE193887_130_core.csv\n",
            "Comparison results saved to: /content/drive/MyDrive/Διπλωματική/Final_files/Results/edgeR_output_h2o2_GSE193887_131_core.csv\n",
            "Comparison results saved to: /content/drive/MyDrive/Διπλωματική/Final_files/Results/edgeR_output_h2o2_GSE197148_128_core.csv\n",
            "Comparison results saved to: /content/drive/MyDrive/Διπλωματική/Final_files/Results/edgeR_output_h2o2_GSE227554_103_core.csv\n",
            "Comparison results saved to: /content/drive/MyDrive/Διπλωματική/Final_files/Results/edgeR_output_h2o2_GSE227554_105_core.csv\n",
            "Comparison results saved to: /content/drive/MyDrive/Διπλωματική/Final_files/Results/edgeR_output_h2o2_GSE227554_107_core.csv\n",
            "Comparison results saved to: /content/drive/MyDrive/Διπλωματική/Final_files/Results/edgeR_output_heat_GSE53667_0_core.csv\n",
            "Comparison results saved to: /content/drive/MyDrive/Διπλωματική/Final_files/Results/edgeR_output_heat_GSE73471_6_core.csv\n",
            "Comparison results saved to: /content/drive/MyDrive/Διπλωματική/Final_files/Results/edgeR_output_heat_GSE73471_7_core.csv\n",
            "Comparison results saved to: /content/drive/MyDrive/Διπλωματική/Final_files/Results/edgeR_output_heat_GSE79680_5_core.csv\n",
            "Comparison results saved to: /content/drive/MyDrive/Διπλωματική/Final_files/Results/edgeR_output_heat_GSE115973_9_core.csv\n",
            "Comparison results saved to: /content/drive/MyDrive/Διπλωματική/Final_files/Results/edgeR_output_heat_GSE115973_10_core.csv\n",
            "Comparison results saved to: /content/drive/MyDrive/Διπλωματική/Final_files/Results/edgeR_output_heat_GSE115973_11_core.csv\n",
            "Comparison results saved to: /content/drive/MyDrive/Διπλωματική/Final_files/Results/edgeR_output_heat_GSE124609_21_core.csv\n",
            "Comparison results saved to: /content/drive/MyDrive/Διπλωματική/Final_files/Results/edgeR_output_heat_GSE124609_22_core.csv\n",
            "Comparison results saved to: /content/drive/MyDrive/Διπλωματική/Final_files/Results/edgeR_output_heat_GSE140053_26_core.csv\n",
            "Comparison results saved to: /content/drive/MyDrive/Διπλωματική/Final_files/Results/edgeR_output_heat_GSE140053_27_core.csv\n",
            "Comparison results saved to: /content/drive/MyDrive/Διπλωματική/Final_files/Results/edgeR_output_heat_GSE140053_28_core.csv\n",
            "Comparison results saved to: /content/drive/MyDrive/Διπλωματική/Final_files/Results/edgeR_output_heat_GSE140053_29_core.csv\n",
            "Comparison results saved to: /content/drive/MyDrive/Διπλωματική/Final_files/Results/edgeR_output_heat_GSE149797_30_core.csv\n",
            "Comparison results saved to: /content/drive/MyDrive/Διπλωματική/Final_files/Results/edgeR_output_heat_GSE149797_31_core.csv\n",
            "Comparison results saved to: /content/drive/MyDrive/Διπλωματική/Final_files/Results/edgeR_output_heat_GSE159802_42_core.csv\n",
            "Comparison results saved to: /content/drive/MyDrive/Διπλωματική/Final_files/Results/edgeR_output_heat_GSE164846_25_core.csv\n",
            "Comparison results saved to: /content/drive/MyDrive/Διπλωματική/Final_files/Results/edgeR_output_heat_GSE173537_47_core.csv\n",
            "Comparison results saved to: /content/drive/MyDrive/Διπλωματική/Final_files/Results/edgeR_output_heat_GSE173537_48_core.csv\n",
            "Comparison results saved to: /content/drive/MyDrive/Διπλωματική/Final_files/Results/edgeR_output_heat_GSE198441_45_core.csv\n",
            "Comparison results saved to: /content/drive/MyDrive/Διπλωματική/Final_files/Results/edgeR_output_hypoxia_GSE173108_207_core.csv\n",
            "Comparison results saved to: /content/drive/MyDrive/Διπλωματική/Final_files/Results/edgeR_output_hypoxia_GSE173108_208_core.csv\n",
            "Comparison results saved to: /content/drive/MyDrive/Διπλωματική/Final_files/Results/edgeR_output_hypoxia_GSE197523_232_core.csv\n",
            "Comparison results saved to: /content/drive/MyDrive/Διπλωματική/Final_files/Results/edgeR_output_hypoxia_GSE197525_230_core.csv\n",
            "Comparison results saved to: /content/drive/MyDrive/Διπλωματική/Final_files/Results/edgeR_output_hypoxia_GSE197525_231_core.csv\n",
            "Comparison results saved to: /content/drive/MyDrive/Διπλωματική/Final_files/Results/edgeR_output_hypoxia_GSE198308_225_core.csv\n",
            "Comparison results saved to: /content/drive/MyDrive/Διπλωματική/Final_files/Results/edgeR_output_hypoxia_GSE202603_201_core.csv\n",
            "Comparison results saved to: /content/drive/MyDrive/Διπλωματική/Final_files/Results/edgeR_output_hypoxia_GSE206027_213_core.csv\n",
            "Comparison results saved to: /content/drive/MyDrive/Διπλωματική/Final_files/Results/edgeR_output_hypoxia_GSE206027_214_core.csv\n",
            "Comparison results saved to: /content/drive/MyDrive/Διπλωματική/Final_files/Results/edgeR_output_hypoxia_GSE212853_209_core.csv\n",
            "Comparison results saved to: /content/drive/MyDrive/Διπλωματική/Final_files/Results/edgeR_output_hypoxia_GSE212853_210_core.csv\n",
            "Comparison results saved to: /content/drive/MyDrive/Διπλωματική/Final_files/Results/edgeR_output_hypoxia_GSE214720_204_core.csv\n",
            "Comparison results saved to: /content/drive/MyDrive/Διπλωματική/Final_files/Results/edgeR_output_hypoxia_GSE214720_205_core.csv\n",
            "Comparison results saved to: /content/drive/MyDrive/Διπλωματική/Final_files/Results/edgeR_output_hypoxia_GSE224537_203_core.csv\n",
            "Comparison results saved to: /content/drive/MyDrive/Διπλωματική/Final_files/Results/edgeR_output_hypoxia_GSE227811_206_core.csv\n",
            "Comparison results saved to: /content/drive/MyDrive/Διπλωματική/Final_files/Results/edgeR_output_hypoxia_GSE229825_202_core.csv\n",
            "Comparison results saved to: /content/drive/MyDrive/Διπλωματική/Final_files/Results/edgeR_output_hypoxia+uv_GSE198309_223_core.csv\n",
            "Comparison results saved to: /content/drive/MyDrive/Διπλωματική/Final_files/Results/edgeR_output_uv_GSE71519_95_core.csv\n",
            "Comparison results saved to: /content/drive/MyDrive/Διπλωματική/Final_files/Results/edgeR_output_uv_GSE71519_96_core.csv\n",
            "Comparison results saved to: /content/drive/MyDrive/Διπλωματική/Final_files/Results/edgeR_output_uv_GSE149760_70_core.csv\n",
            "Comparison results saved to: /content/drive/MyDrive/Διπλωματική/Final_files/Results/edgeR_output_uv_GSE161789_73_core.csv\n",
            "Comparison results saved to: /content/drive/MyDrive/Διπλωματική/Final_files/Results/edgeR_output_uv_GSE183153_51_core.csv\n",
            "Comparison results saved to: /content/drive/MyDrive/Διπλωματική/Final_files/Results/edgeR_output_uv_GSE71519_97_core.csv\n",
            "Comparison results saved to: /content/drive/MyDrive/Διπλωματική/Final_files/Results/edgeR_output_uv_GSE71519_98_core.csv\n",
            "Comparison results saved to: /content/drive/MyDrive/Διπλωματική/Final_files/Results/edgeR_output_uv_GSE71519_99_core.csv\n",
            "Comparison results saved to: /content/drive/MyDrive/Διπλωματική/Final_files/Results/edgeR_output_uv_GSE71519_100_core.csv\n",
            "Comparison results saved to: /content/drive/MyDrive/Διπλωματική/Final_files/Results/edgeR_output_uv_GSE124208_82_core.csv\n",
            "Comparison results saved to: /content/drive/MyDrive/Διπλωματική/Final_files/Results/edgeR_output_uv_GSE124208_83_core.csv\n",
            "Comparison results saved to: /content/drive/MyDrive/Διπλωματική/Final_files/Results/edgeR_output_uv_GSE124208_84_core.csv\n",
            "Comparison results saved to: /content/drive/MyDrive/Διπλωματική/Final_files/Results/edgeR_output_uv_GSE124208_85_core.csv\n",
            "Comparison results saved to: /content/drive/MyDrive/Διπλωματική/Final_files/Results/edgeR_output_uv_GSE149760_64_core.csv\n",
            "Comparison results saved to: /content/drive/MyDrive/Διπλωματική/Final_files/Results/edgeR_output_uv_GSE149760_65_core.csv\n",
            "Comparison results saved to: /content/drive/MyDrive/Διπλωματική/Final_files/Results/edgeR_output_uv_GSE149760_66_core.csv\n",
            "Comparison results saved to: /content/drive/MyDrive/Διπλωματική/Final_files/Results/edgeR_output_uv_GSE149760_67_core.csv\n"
          ]
        }
      ]
    },
    {
      "cell_type": "markdown",
      "source": [
        "# Find how many core genes are present in the edgeR files on average\n",
        "In order to achieve this we will iterate through the google directory where we stored the results from above and keep the count of the genes present in each file"
      ],
      "metadata": {
        "id": "yTkS5p4E6Tdo"
      }
    },
    {
      "cell_type": "code",
      "source": [
        "# Directory containing the edgeR files\n",
        "edgeR_directory = \"/content/drive/MyDrive/Διπλωματική/Final_files/Results\"\n",
        "\n",
        "# Initialize variables to store total rows count and total sum of rows count\n",
        "total_rows_count = 0\n",
        "total_sum = 0"
      ],
      "metadata": {
        "id": "iyrbAJ-R6_6i"
      },
      "execution_count": 3,
      "outputs": []
    },
    {
      "cell_type": "code",
      "source": [
        "# Iterate through each file in the edgeR directory\n",
        "for file_name in os.listdir(edgeR_directory):\n",
        "    if file_name.endswith('.csv'):\n",
        "        # Load the data from the edgeR file\n",
        "        edgeR_df = pd.read_csv(os.path.join(edgeR_directory, file_name))\n",
        "\n",
        "        # Count the number of rows (excluding headers)\n",
        "        rows_count = len(edgeR_df) - 1  # Subtract 1 to exclude the header row\n",
        "\n",
        "        # Add the current file's rows count to the total\n",
        "        total_rows_count += rows_count\n",
        "\n",
        "        # Calculate the sum of rows count\n",
        "        total_sum += rows_count\n",
        "\n",
        "# Calculate the mean\n",
        "mean_rows_count = total_sum / len(os.listdir(edgeR_directory))\n",
        "\n",
        "print(\"The total number of core stress genes that are present across all the edgeR files:\", total_rows_count)\n",
        "print(\"The average number of core stress genes that are present across all edgeR files:\", mean_rows_count)"
      ],
      "metadata": {
        "colab": {
          "base_uri": "https://localhost:8080/"
        },
        "id": "xzw_Pn7j7GKu",
        "outputId": "d653266d-a056-4ebf-dcad-c3fed55f64b0"
      },
      "execution_count": 4,
      "outputs": [
        {
          "output_type": "stream",
          "name": "stdout",
          "text": [
            "The total number of core stress genes that are present across all the edgeR files: 4525\n",
            "The average number of core stress genes that are present across all edgeR files: 51.42045454545455\n"
          ]
        }
      ]
    }
  ]
}