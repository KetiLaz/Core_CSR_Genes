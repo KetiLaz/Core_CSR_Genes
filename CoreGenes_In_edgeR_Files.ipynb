{
  "nbformat": 4,
  "nbformat_minor": 0,
  "metadata": {
    "colab": {
      "provenance": [],
      "authorship_tag": "ABX9TyN6gGFpU2z9HR1VgzAAc4HL",
      "include_colab_link": true
    },
    "kernelspec": {
      "name": "python3",
      "display_name": "Python 3"
    },
    "language_info": {
      "name": "python"
    }
  },
  "cells": [
    {
      "cell_type": "markdown",
      "metadata": {
        "id": "view-in-github",
        "colab_type": "text"
      },
      "source": [
        "<a href=\"https://colab.research.google.com/github/KetiLaz/Core_CSR_Genes/blob/main/CoreGenes_In_edgeR_Files.ipynb\" target=\"_parent\"><img src=\"https://colab.research.google.com/assets/colab-badge.svg\" alt=\"Open In Colab\"/></a>"
      ]
    },
    {
      "cell_type": "code",
      "execution_count": 1,
      "metadata": {
        "colab": {
          "base_uri": "https://localhost:8080/"
        },
        "id": "BunhCsHa9VIZ",
        "outputId": "b71cc9e1-4de8-491a-e8b4-e3d31ed2f3d5"
      },
      "outputs": [
        {
          "output_type": "stream",
          "name": "stdout",
          "text": [
            "Mounted at drive/\n"
          ]
        }
      ],
      "source": [
        "# Mount google drive\n",
        "from google.colab import drive\n",
        "drive.mount('drive/')"
      ]
    },
    {
      "cell_type": "code",
      "source": [
        "#Import libraries\n",
        "import pandas as pd\n",
        "import os"
      ],
      "metadata": {
        "id": "Of8C3p44-UMm"
      },
      "execution_count": 2,
      "outputs": []
    },
    {
      "cell_type": "markdown",
      "source": [],
      "metadata": {
        "id": "QCqZP0AFa-_a"
      }
    },
    {
      "cell_type": "markdown",
      "source": [
        "# Find which of the 70 core stress genes mined using Darling are present in the edgeR files of the RNA-seq stress related studies"
      ],
      "metadata": {
        "id": "6WkIzLhvFBRZ"
      }
    },
    {
      "cell_type": "code",
      "source": [
        "# Define a function to perform the comparison between the edgeR files and the core stress reponse genes and save the results\n",
        "def perform_comparison(edgeR_file, core_genes_file, output_file):\n",
        "    # Import data\n",
        "    edgeR_data = pd.read_csv(edgeR_file, sep=';')\n",
        "    core_genes_data = pd.read_csv(core_genes_file, sep=';')\n",
        "\n",
        "    # Merge data\n",
        "    merged_data = pd.merge(core_genes_data, edgeR_data, on='Ensembl ID', how='inner', suffixes=('_core', '_edgeR'))\n",
        "\n",
        "    # Save results\n",
        "    merged_data.to_csv(output_file, index=False)\n",
        "    print(f\"Comparison results saved to: {output_file}\")"
      ],
      "metadata": {
        "id": "5cbLa4CuSnrm"
      },
      "execution_count": null,
      "outputs": []
    },
    {
      "cell_type": "code",
      "source": [
        "# Directory containing edgeR files\n",
        "edgeR_directory = '/content/drive/MyDrive/Διπλωματική/Final_files/edgeR_csv'\n",
        "\n",
        "# File of the core stress response genes\n",
        "core_genes_file = '/content/drive/MyDrive/Διπλωματική/Mesh Search/unique_core_genes_all_responses.csv'\n",
        "\n",
        "# Output directory for results\n",
        "output_directory = '/content/drive/MyDrive/Διπλωματική/Final_files/Results/'"
      ],
      "metadata": {
        "id": "hwSXdgB2SrxY"
      },
      "execution_count": null,
      "outputs": []
    },
    {
      "cell_type": "code",
      "source": [
        "# Iterate over each edgeR file using the comparison function created above\n",
        "for filename in os.listdir(edgeR_directory):\n",
        "    if filename.endswith(\".csv\"):\n",
        "        edgeR_file = os.path.join(edgeR_directory, filename)\n",
        "        output_file = os.path.join(output_directory, f\"{os.path.splitext(filename)[0]}_core.csv\")\n",
        "        perform_comparison(edgeR_file, core_genes_file, output_file)"
      ],
      "metadata": {
        "colab": {
          "base_uri": "https://localhost:8080/"
        },
        "id": "h4QRbGRUTB6t",
        "outputId": "7f76701a-1f26-4910-e1ca-09d611dcef40"
      },
      "execution_count": null,
      "outputs": [
        {
          "output_type": "stream",
          "name": "stdout",
          "text": [
            "Comparison results saved to: /content/drive/MyDrive/Διπλωματική/Final_files/Results/edgeR_output_h2o2_GSE58910_193_core.csv\n",
            "Comparison results saved to: /content/drive/MyDrive/Διπλωματική/Final_files/Results/edgeR_output_h2o2_GSE59233_180_core.csv\n",
            "Comparison results saved to: /content/drive/MyDrive/Διπλωματική/Final_files/Results/edgeR_output_h2o2_GSE72991_137_core.csv\n",
            "Comparison results saved to: /content/drive/MyDrive/Διπλωματική/Final_files/Results/edgeR_output_h2o2_GSE72991_146_core.csv\n",
            "Comparison results saved to: /content/drive/MyDrive/Διπλωματική/Final_files/Results/edgeR_output_h2o2_GSE75962_183_core.csv\n",
            "Comparison results saved to: /content/drive/MyDrive/Διπλωματική/Final_files/Results/edgeR_output_h2o2_GSE104664_177_core.csv\n",
            "Comparison results saved to: /content/drive/MyDrive/Διπλωματική/Final_files/Results/edgeR_output_h2o2_GSE113171_168_core.csv\n",
            "Comparison results saved to: /content/drive/MyDrive/Διπλωματική/Final_files/Results/edgeR_output_h2o2_GSE138290_148_core.csv\n",
            "Comparison results saved to: /content/drive/MyDrive/Διπλωματική/Final_files/Results/edgeR_output_h2o2_GSE143155_152_core.csv\n",
            "Comparison results saved to: /content/drive/MyDrive/Διπλωματική/Final_files/Results/edgeR_output_h2o2_GSE143155_154_core.csv\n",
            "Comparison results saved to: /content/drive/MyDrive/Διπλωματική/Final_files/Results/edgeR_output_h2o2_GSE143155_156_core.csv\n",
            "Comparison results saved to: /content/drive/MyDrive/Διπλωματική/Final_files/Results/edgeR_output_h2o2_GSE143155_157_core.csv\n",
            "Comparison results saved to: /content/drive/MyDrive/Διπλωματική/Final_files/Results/edgeR_output_h2o2_GSE143155_158_core.csv\n",
            "Comparison results saved to: /content/drive/MyDrive/Διπλωματική/Final_files/Results/edgeR_output_h2o2_GSE147012_116_core.csv\n",
            "Comparison results saved to: /content/drive/MyDrive/Διπλωματική/Final_files/Results/edgeR_output_h2o2_GSE158909_122_core.csv\n",
            "Comparison results saved to: /content/drive/MyDrive/Διπλωματική/Final_files/Results/edgeR_output_h2o2_GSE158909_123_core.csv\n",
            "Comparison results saved to: /content/drive/MyDrive/Διπλωματική/Final_files/Results/edgeR_output_h2o2_GSE160702_149_core.csv\n",
            "Comparison results saved to: /content/drive/MyDrive/Διπλωματική/Final_files/Results/edgeR_output_h2o2_GSE160702_150_core.csv\n",
            "Comparison results saved to: /content/drive/MyDrive/Διπλωματική/Final_files/Results/edgeR_output_h2o2_GSE160702_151_core.csv\n",
            "Comparison results saved to: /content/drive/MyDrive/Διπλωματική/Final_files/Results/edgeR_output_h2o2_GSE164742_124_core.csv\n",
            "Comparison results saved to: /content/drive/MyDrive/Διπλωματική/Final_files/Results/edgeR_output_h2o2_GSE164742_126_core.csv\n",
            "Comparison results saved to: /content/drive/MyDrive/Διπλωματική/Final_files/Results/edgeR_output_h2o2_GSE173806_118_core.csv\n",
            "Comparison results saved to: /content/drive/MyDrive/Διπλωματική/Final_files/Results/edgeR_output_h2o2_GSE173806_119_core.csv\n",
            "Comparison results saved to: /content/drive/MyDrive/Διπλωματική/Final_files/Results/edgeR_output_h2o2_GSE185324_111_core.csv\n",
            "Comparison results saved to: /content/drive/MyDrive/Διπλωματική/Final_files/Results/edgeR_output_h2o2_GSE185324_112_core.csv\n",
            "Comparison results saved to: /content/drive/MyDrive/Διπλωματική/Final_files/Results/edgeR_output_h2o2_GSE188458_113_core.csv\n",
            "Comparison results saved to: /content/drive/MyDrive/Διπλωματική/Final_files/Results/edgeR_output_h2o2_GSE193887_129_core.csv\n",
            "Comparison results saved to: /content/drive/MyDrive/Διπλωματική/Final_files/Results/edgeR_output_h2o2_GSE193887_130_core.csv\n",
            "Comparison results saved to: /content/drive/MyDrive/Διπλωματική/Final_files/Results/edgeR_output_h2o2_GSE193887_131_core.csv\n",
            "Comparison results saved to: /content/drive/MyDrive/Διπλωματική/Final_files/Results/edgeR_output_h2o2_GSE197148_128_core.csv\n",
            "Comparison results saved to: /content/drive/MyDrive/Διπλωματική/Final_files/Results/edgeR_output_h2o2_GSE227554_103_core.csv\n",
            "Comparison results saved to: /content/drive/MyDrive/Διπλωματική/Final_files/Results/edgeR_output_h2o2_GSE227554_105_core.csv\n",
            "Comparison results saved to: /content/drive/MyDrive/Διπλωματική/Final_files/Results/edgeR_output_h2o2_GSE227554_107_core.csv\n",
            "Comparison results saved to: /content/drive/MyDrive/Διπλωματική/Final_files/Results/edgeR_output_heat_GSE53667_0_core.csv\n",
            "Comparison results saved to: /content/drive/MyDrive/Διπλωματική/Final_files/Results/edgeR_output_heat_GSE73471_6_core.csv\n",
            "Comparison results saved to: /content/drive/MyDrive/Διπλωματική/Final_files/Results/edgeR_output_heat_GSE73471_7_core.csv\n",
            "Comparison results saved to: /content/drive/MyDrive/Διπλωματική/Final_files/Results/edgeR_output_heat_GSE79680_5_core.csv\n",
            "Comparison results saved to: /content/drive/MyDrive/Διπλωματική/Final_files/Results/edgeR_output_heat_GSE115973_9_core.csv\n",
            "Comparison results saved to: /content/drive/MyDrive/Διπλωματική/Final_files/Results/edgeR_output_heat_GSE115973_10_core.csv\n",
            "Comparison results saved to: /content/drive/MyDrive/Διπλωματική/Final_files/Results/edgeR_output_heat_GSE115973_11_core.csv\n",
            "Comparison results saved to: /content/drive/MyDrive/Διπλωματική/Final_files/Results/edgeR_output_heat_GSE124609_21_core.csv\n",
            "Comparison results saved to: /content/drive/MyDrive/Διπλωματική/Final_files/Results/edgeR_output_heat_GSE124609_22_core.csv\n",
            "Comparison results saved to: /content/drive/MyDrive/Διπλωματική/Final_files/Results/edgeR_output_heat_GSE140053_26_core.csv\n",
            "Comparison results saved to: /content/drive/MyDrive/Διπλωματική/Final_files/Results/edgeR_output_heat_GSE140053_27_core.csv\n",
            "Comparison results saved to: /content/drive/MyDrive/Διπλωματική/Final_files/Results/edgeR_output_heat_GSE140053_28_core.csv\n",
            "Comparison results saved to: /content/drive/MyDrive/Διπλωματική/Final_files/Results/edgeR_output_heat_GSE140053_29_core.csv\n",
            "Comparison results saved to: /content/drive/MyDrive/Διπλωματική/Final_files/Results/edgeR_output_heat_GSE149797_30_core.csv\n",
            "Comparison results saved to: /content/drive/MyDrive/Διπλωματική/Final_files/Results/edgeR_output_heat_GSE149797_31_core.csv\n",
            "Comparison results saved to: /content/drive/MyDrive/Διπλωματική/Final_files/Results/edgeR_output_heat_GSE159802_42_core.csv\n",
            "Comparison results saved to: /content/drive/MyDrive/Διπλωματική/Final_files/Results/edgeR_output_heat_GSE164846_25_core.csv\n",
            "Comparison results saved to: /content/drive/MyDrive/Διπλωματική/Final_files/Results/edgeR_output_heat_GSE173537_47_core.csv\n",
            "Comparison results saved to: /content/drive/MyDrive/Διπλωματική/Final_files/Results/edgeR_output_heat_GSE173537_48_core.csv\n",
            "Comparison results saved to: /content/drive/MyDrive/Διπλωματική/Final_files/Results/edgeR_output_heat_GSE198441_45_core.csv\n",
            "Comparison results saved to: /content/drive/MyDrive/Διπλωματική/Final_files/Results/edgeR_output_hypoxia_GSE173108_207_core.csv\n",
            "Comparison results saved to: /content/drive/MyDrive/Διπλωματική/Final_files/Results/edgeR_output_hypoxia_GSE173108_208_core.csv\n",
            "Comparison results saved to: /content/drive/MyDrive/Διπλωματική/Final_files/Results/edgeR_output_hypoxia_GSE197523_232_core.csv\n",
            "Comparison results saved to: /content/drive/MyDrive/Διπλωματική/Final_files/Results/edgeR_output_hypoxia_GSE197525_230_core.csv\n",
            "Comparison results saved to: /content/drive/MyDrive/Διπλωματική/Final_files/Results/edgeR_output_hypoxia_GSE197525_231_core.csv\n",
            "Comparison results saved to: /content/drive/MyDrive/Διπλωματική/Final_files/Results/edgeR_output_hypoxia_GSE198308_225_core.csv\n",
            "Comparison results saved to: /content/drive/MyDrive/Διπλωματική/Final_files/Results/edgeR_output_hypoxia_GSE202603_201_core.csv\n",
            "Comparison results saved to: /content/drive/MyDrive/Διπλωματική/Final_files/Results/edgeR_output_hypoxia_GSE206027_213_core.csv\n",
            "Comparison results saved to: /content/drive/MyDrive/Διπλωματική/Final_files/Results/edgeR_output_hypoxia_GSE206027_214_core.csv\n",
            "Comparison results saved to: /content/drive/MyDrive/Διπλωματική/Final_files/Results/edgeR_output_hypoxia_GSE212853_209_core.csv\n",
            "Comparison results saved to: /content/drive/MyDrive/Διπλωματική/Final_files/Results/edgeR_output_hypoxia_GSE212853_210_core.csv\n",
            "Comparison results saved to: /content/drive/MyDrive/Διπλωματική/Final_files/Results/edgeR_output_hypoxia_GSE214720_204_core.csv\n",
            "Comparison results saved to: /content/drive/MyDrive/Διπλωματική/Final_files/Results/edgeR_output_hypoxia_GSE214720_205_core.csv\n",
            "Comparison results saved to: /content/drive/MyDrive/Διπλωματική/Final_files/Results/edgeR_output_hypoxia_GSE224537_203_core.csv\n",
            "Comparison results saved to: /content/drive/MyDrive/Διπλωματική/Final_files/Results/edgeR_output_hypoxia_GSE227811_206_core.csv\n",
            "Comparison results saved to: /content/drive/MyDrive/Διπλωματική/Final_files/Results/edgeR_output_hypoxia_GSE229825_202_core.csv\n",
            "Comparison results saved to: /content/drive/MyDrive/Διπλωματική/Final_files/Results/edgeR_output_hypoxia+uv_GSE198309_223_core.csv\n",
            "Comparison results saved to: /content/drive/MyDrive/Διπλωματική/Final_files/Results/edgeR_output_uv_GSE71519_95_core.csv\n",
            "Comparison results saved to: /content/drive/MyDrive/Διπλωματική/Final_files/Results/edgeR_output_uv_GSE71519_96_core.csv\n",
            "Comparison results saved to: /content/drive/MyDrive/Διπλωματική/Final_files/Results/edgeR_output_uv_GSE149760_70_core.csv\n",
            "Comparison results saved to: /content/drive/MyDrive/Διπλωματική/Final_files/Results/edgeR_output_uv_GSE161789_73_core.csv\n",
            "Comparison results saved to: /content/drive/MyDrive/Διπλωματική/Final_files/Results/edgeR_output_uv_GSE183153_51_core.csv\n",
            "Comparison results saved to: /content/drive/MyDrive/Διπλωματική/Final_files/Results/edgeR_output_uv_GSE71519_97_core.csv\n",
            "Comparison results saved to: /content/drive/MyDrive/Διπλωματική/Final_files/Results/edgeR_output_uv_GSE71519_98_core.csv\n",
            "Comparison results saved to: /content/drive/MyDrive/Διπλωματική/Final_files/Results/edgeR_output_uv_GSE71519_99_core.csv\n",
            "Comparison results saved to: /content/drive/MyDrive/Διπλωματική/Final_files/Results/edgeR_output_uv_GSE71519_100_core.csv\n",
            "Comparison results saved to: /content/drive/MyDrive/Διπλωματική/Final_files/Results/edgeR_output_uv_GSE124208_82_core.csv\n",
            "Comparison results saved to: /content/drive/MyDrive/Διπλωματική/Final_files/Results/edgeR_output_uv_GSE124208_83_core.csv\n",
            "Comparison results saved to: /content/drive/MyDrive/Διπλωματική/Final_files/Results/edgeR_output_uv_GSE124208_84_core.csv\n",
            "Comparison results saved to: /content/drive/MyDrive/Διπλωματική/Final_files/Results/edgeR_output_uv_GSE124208_85_core.csv\n",
            "Comparison results saved to: /content/drive/MyDrive/Διπλωματική/Final_files/Results/edgeR_output_uv_GSE149760_64_core.csv\n",
            "Comparison results saved to: /content/drive/MyDrive/Διπλωματική/Final_files/Results/edgeR_output_uv_GSE149760_65_core.csv\n",
            "Comparison results saved to: /content/drive/MyDrive/Διπλωματική/Final_files/Results/edgeR_output_uv_GSE149760_66_core.csv\n",
            "Comparison results saved to: /content/drive/MyDrive/Διπλωματική/Final_files/Results/edgeR_output_uv_GSE149760_67_core.csv\n"
          ]
        }
      ]
    },
    {
      "cell_type": "markdown",
      "source": [
        "# Find how many core genes are present in the edgeR files on average\n",
        "In order to achieve this we will iterate through the google directory where we stored the results from above and keep the count of the genes present in each file"
      ],
      "metadata": {
        "id": "yTkS5p4E6Tdo"
      }
    },
    {
      "cell_type": "code",
      "source": [
        "# Directory containing the edgeR files\n",
        "edgeR_directory = \"/content/drive/MyDrive/Διπλωματική/Final_files/Results\"\n",
        "\n",
        "# Initialize variables to store total rows count and total sum of rows count\n",
        "total_rows_count = 0\n",
        "total_sum = 0"
      ],
      "metadata": {
        "id": "iyrbAJ-R6_6i"
      },
      "execution_count": null,
      "outputs": []
    },
    {
      "cell_type": "code",
      "source": [
        "# Iterate through each file in the edgeR directory\n",
        "for file_name in os.listdir(edgeR_directory):\n",
        "    if file_name.endswith('.csv'):\n",
        "        # Load the data from the edgeR file\n",
        "        edgeR_df = pd.read_csv(os.path.join(edgeR_directory, file_name))\n",
        "\n",
        "        # Count the number of rows (excluding headers)\n",
        "        rows_count = len(edgeR_df) - 1  # Subtract 1 to exclude the header row\n",
        "\n",
        "        # Add the current file's rows count to the total\n",
        "        total_rows_count += rows_count\n",
        "\n",
        "        # Calculate the sum of rows count\n",
        "        total_sum += rows_count\n",
        "\n",
        "# Calculate the mean\n",
        "mean_rows_count = total_sum / len(os.listdir(edgeR_directory))\n",
        "\n",
        "print(\"The total number of core stress genes that are present across all the edgeR files:\", total_rows_count)\n",
        "print(\"The average number of core stress genes that are present across all edgeR files:\", mean_rows_count)"
      ],
      "metadata": {
        "colab": {
          "base_uri": "https://localhost:8080/"
        },
        "id": "xzw_Pn7j7GKu",
        "outputId": "d653266d-a056-4ebf-dcad-c3fed55f64b0"
      },
      "execution_count": null,
      "outputs": [
        {
          "output_type": "stream",
          "name": "stdout",
          "text": [
            "The total number of core stress genes that are present across all the edgeR files: 4525\n",
            "The average number of core stress genes that are present across all edgeR files: 51.42045454545455\n"
          ]
        }
      ]
    },
    {
      "cell_type": "markdown",
      "source": [
        "# Count of core genes present in the RNA-seq data collection, count of the present genes with p-value < 0.05 and their percentage\n"
      ],
      "metadata": {
        "id": "KuhyyC72p4Bo"
      }
    },
    {
      "cell_type": "code",
      "source": [
        "# Read the list of core genes\n",
        "core_genes_df = pd.read_csv('/content/drive/MyDrive/Διπλωματική/Mesh Search/unique_core_genes_all_responses.csv', sep=\";\")\n",
        "core_genes = core_genes_df['Ensembl ID'].tolist()\n",
        "\n",
        "# Directory containing the edgeR files\n",
        "edgeR_directory = \"/content/drive/MyDrive/Διπλωματική/Final_files/edgeR_csv\"\n",
        "\n",
        "# Initialize a list to store the results\n",
        "core_summary_df = []\n"
      ],
      "metadata": {
        "id": "p28_DE8gKRsf"
      },
      "execution_count": 15,
      "outputs": []
    },
    {
      "cell_type": "code",
      "source": [
        "core_genes_df.head()"
      ],
      "metadata": {
        "colab": {
          "base_uri": "https://localhost:8080/",
          "height": 601
        },
        "id": "tepIApy__YTp",
        "outputId": "c790b94f-27e5-44b5-b7a1-4bfc22e8e206"
      },
      "execution_count": 14,
      "outputs": [
        {
          "output_type": "execute_result",
          "data": {
            "text/plain": [
              "              DBID       Ensembl ID   NAME  TOTAL_FREQUENCY  NUM_ARTICLES  \\\n",
              "0  ENSP00000011653  ENSG00000010610    CD4             13.0           6.0   \n",
              "1  ENSP00000212015  ENSG00000096717  SIRT1             30.0           8.0   \n",
              "2  ENSP00000215832  ENSG00000100030  MAPK1              6.0           4.0   \n",
              "3  ENSP00000216479  ENSG00000100591  AHSA1             12.0           6.0   \n",
              "4  ENSP00000223029  ENSG00000106305  AIMP2              8.0           5.0   \n",
              "\n",
              "      ENTITY_TYPE                                    PMIDS_FREQUENCY  \\\n",
              "0  Genes/Proteins  36078151:5, 30246458:3, 33506741:2, 31644151:1...   \n",
              "1  Genes/Proteins  30003683:10, 31321634:9, 30483738:6, 34358533:...   \n",
              "2  Genes/Proteins     17276891:2, 20648640:2, 20132809:1, 26165751:1   \n",
              "3  Genes/Proteins  31412254:4, 32986702:3, 31522240:2, 30268700:1...   \n",
              "4  Genes/Proteins  32986702:3, 31522240:2, 32881908:1, 30268700:1...   \n",
              "\n",
              "                                            SYNONYMS     DBID_noLINKS  \n",
              "0  1q6-8, 3 CD4, 5 Thr, CD 4, CD 4 molecule, CD-4...  ENSP00000011653  \n",
              "1  hSIR2, hSIRT1, NAD-dependent protein deacetyla...  ENSP00000212015  \n",
              "2  3W 55, 5 NHL, ER K, erk, Erk 2, ERK-2, ERK-2-P...  ENSP00000215832  \n",
              "3  Activator of 90kDa heat shock protein ATPase h...  ENSP00000216479  \n",
              "4  AIMP2, aminoacyl tRNA synthetase complex inter...  ENSP00000223029  "
            ],
            "text/html": [
              "\n",
              "  <div id=\"df-cdba053d-95f4-4b9d-baf1-694843d98c55\" class=\"colab-df-container\">\n",
              "    <div>\n",
              "<style scoped>\n",
              "    .dataframe tbody tr th:only-of-type {\n",
              "        vertical-align: middle;\n",
              "    }\n",
              "\n",
              "    .dataframe tbody tr th {\n",
              "        vertical-align: top;\n",
              "    }\n",
              "\n",
              "    .dataframe thead th {\n",
              "        text-align: right;\n",
              "    }\n",
              "</style>\n",
              "<table border=\"1\" class=\"dataframe\">\n",
              "  <thead>\n",
              "    <tr style=\"text-align: right;\">\n",
              "      <th></th>\n",
              "      <th>DBID</th>\n",
              "      <th>Ensembl ID</th>\n",
              "      <th>NAME</th>\n",
              "      <th>TOTAL_FREQUENCY</th>\n",
              "      <th>NUM_ARTICLES</th>\n",
              "      <th>ENTITY_TYPE</th>\n",
              "      <th>PMIDS_FREQUENCY</th>\n",
              "      <th>SYNONYMS</th>\n",
              "      <th>DBID_noLINKS</th>\n",
              "    </tr>\n",
              "  </thead>\n",
              "  <tbody>\n",
              "    <tr>\n",
              "      <th>0</th>\n",
              "      <td>ENSP00000011653</td>\n",
              "      <td>ENSG00000010610</td>\n",
              "      <td>CD4</td>\n",
              "      <td>13.0</td>\n",
              "      <td>6.0</td>\n",
              "      <td>Genes/Proteins</td>\n",
              "      <td>36078151:5, 30246458:3, 33506741:2, 31644151:1...</td>\n",
              "      <td>1q6-8, 3 CD4, 5 Thr, CD 4, CD 4 molecule, CD-4...</td>\n",
              "      <td>ENSP00000011653</td>\n",
              "    </tr>\n",
              "    <tr>\n",
              "      <th>1</th>\n",
              "      <td>ENSP00000212015</td>\n",
              "      <td>ENSG00000096717</td>\n",
              "      <td>SIRT1</td>\n",
              "      <td>30.0</td>\n",
              "      <td>8.0</td>\n",
              "      <td>Genes/Proteins</td>\n",
              "      <td>30003683:10, 31321634:9, 30483738:6, 34358533:...</td>\n",
              "      <td>hSIR2, hSIRT1, NAD-dependent protein deacetyla...</td>\n",
              "      <td>ENSP00000212015</td>\n",
              "    </tr>\n",
              "    <tr>\n",
              "      <th>2</th>\n",
              "      <td>ENSP00000215832</td>\n",
              "      <td>ENSG00000100030</td>\n",
              "      <td>MAPK1</td>\n",
              "      <td>6.0</td>\n",
              "      <td>4.0</td>\n",
              "      <td>Genes/Proteins</td>\n",
              "      <td>17276891:2, 20648640:2, 20132809:1, 26165751:1</td>\n",
              "      <td>3W 55, 5 NHL, ER K, erk, Erk 2, ERK-2, ERK-2-P...</td>\n",
              "      <td>ENSP00000215832</td>\n",
              "    </tr>\n",
              "    <tr>\n",
              "      <th>3</th>\n",
              "      <td>ENSP00000216479</td>\n",
              "      <td>ENSG00000100591</td>\n",
              "      <td>AHSA1</td>\n",
              "      <td>12.0</td>\n",
              "      <td>6.0</td>\n",
              "      <td>Genes/Proteins</td>\n",
              "      <td>31412254:4, 32986702:3, 31522240:2, 30268700:1...</td>\n",
              "      <td>Activator of 90kDa heat shock protein ATPase h...</td>\n",
              "      <td>ENSP00000216479</td>\n",
              "    </tr>\n",
              "    <tr>\n",
              "      <th>4</th>\n",
              "      <td>ENSP00000223029</td>\n",
              "      <td>ENSG00000106305</td>\n",
              "      <td>AIMP2</td>\n",
              "      <td>8.0</td>\n",
              "      <td>5.0</td>\n",
              "      <td>Genes/Proteins</td>\n",
              "      <td>32986702:3, 31522240:2, 32881908:1, 30268700:1...</td>\n",
              "      <td>AIMP2, aminoacyl tRNA synthetase complex inter...</td>\n",
              "      <td>ENSP00000223029</td>\n",
              "    </tr>\n",
              "  </tbody>\n",
              "</table>\n",
              "</div>\n",
              "    <div class=\"colab-df-buttons\">\n",
              "\n",
              "  <div class=\"colab-df-container\">\n",
              "    <button class=\"colab-df-convert\" onclick=\"convertToInteractive('df-cdba053d-95f4-4b9d-baf1-694843d98c55')\"\n",
              "            title=\"Convert this dataframe to an interactive table.\"\n",
              "            style=\"display:none;\">\n",
              "\n",
              "  <svg xmlns=\"http://www.w3.org/2000/svg\" height=\"24px\" viewBox=\"0 -960 960 960\">\n",
              "    <path d=\"M120-120v-720h720v720H120Zm60-500h600v-160H180v160Zm220 220h160v-160H400v160Zm0 220h160v-160H400v160ZM180-400h160v-160H180v160Zm440 0h160v-160H620v160ZM180-180h160v-160H180v160Zm440 0h160v-160H620v160Z\"/>\n",
              "  </svg>\n",
              "    </button>\n",
              "\n",
              "  <style>\n",
              "    .colab-df-container {\n",
              "      display:flex;\n",
              "      gap: 12px;\n",
              "    }\n",
              "\n",
              "    .colab-df-convert {\n",
              "      background-color: #E8F0FE;\n",
              "      border: none;\n",
              "      border-radius: 50%;\n",
              "      cursor: pointer;\n",
              "      display: none;\n",
              "      fill: #1967D2;\n",
              "      height: 32px;\n",
              "      padding: 0 0 0 0;\n",
              "      width: 32px;\n",
              "    }\n",
              "\n",
              "    .colab-df-convert:hover {\n",
              "      background-color: #E2EBFA;\n",
              "      box-shadow: 0px 1px 2px rgba(60, 64, 67, 0.3), 0px 1px 3px 1px rgba(60, 64, 67, 0.15);\n",
              "      fill: #174EA6;\n",
              "    }\n",
              "\n",
              "    .colab-df-buttons div {\n",
              "      margin-bottom: 4px;\n",
              "    }\n",
              "\n",
              "    [theme=dark] .colab-df-convert {\n",
              "      background-color: #3B4455;\n",
              "      fill: #D2E3FC;\n",
              "    }\n",
              "\n",
              "    [theme=dark] .colab-df-convert:hover {\n",
              "      background-color: #434B5C;\n",
              "      box-shadow: 0px 1px 3px 1px rgba(0, 0, 0, 0.15);\n",
              "      filter: drop-shadow(0px 1px 2px rgba(0, 0, 0, 0.3));\n",
              "      fill: #FFFFFF;\n",
              "    }\n",
              "  </style>\n",
              "\n",
              "    <script>\n",
              "      const buttonEl =\n",
              "        document.querySelector('#df-cdba053d-95f4-4b9d-baf1-694843d98c55 button.colab-df-convert');\n",
              "      buttonEl.style.display =\n",
              "        google.colab.kernel.accessAllowed ? 'block' : 'none';\n",
              "\n",
              "      async function convertToInteractive(key) {\n",
              "        const element = document.querySelector('#df-cdba053d-95f4-4b9d-baf1-694843d98c55');\n",
              "        const dataTable =\n",
              "          await google.colab.kernel.invokeFunction('convertToInteractive',\n",
              "                                                    [key], {});\n",
              "        if (!dataTable) return;\n",
              "\n",
              "        const docLinkHtml = 'Like what you see? Visit the ' +\n",
              "          '<a target=\"_blank\" href=https://colab.research.google.com/notebooks/data_table.ipynb>data table notebook</a>'\n",
              "          + ' to learn more about interactive tables.';\n",
              "        element.innerHTML = '';\n",
              "        dataTable['output_type'] = 'display_data';\n",
              "        await google.colab.output.renderOutput(dataTable, element);\n",
              "        const docLink = document.createElement('div');\n",
              "        docLink.innerHTML = docLinkHtml;\n",
              "        element.appendChild(docLink);\n",
              "      }\n",
              "    </script>\n",
              "  </div>\n",
              "\n",
              "\n",
              "<div id=\"df-6de09d4e-7d14-4b6f-a98f-f0cbd9014282\">\n",
              "  <button class=\"colab-df-quickchart\" onclick=\"quickchart('df-6de09d4e-7d14-4b6f-a98f-f0cbd9014282')\"\n",
              "            title=\"Suggest charts\"\n",
              "            style=\"display:none;\">\n",
              "\n",
              "<svg xmlns=\"http://www.w3.org/2000/svg\" height=\"24px\"viewBox=\"0 0 24 24\"\n",
              "     width=\"24px\">\n",
              "    <g>\n",
              "        <path d=\"M19 3H5c-1.1 0-2 .9-2 2v14c0 1.1.9 2 2 2h14c1.1 0 2-.9 2-2V5c0-1.1-.9-2-2-2zM9 17H7v-7h2v7zm4 0h-2V7h2v10zm4 0h-2v-4h2v4z\"/>\n",
              "    </g>\n",
              "</svg>\n",
              "  </button>\n",
              "\n",
              "<style>\n",
              "  .colab-df-quickchart {\n",
              "      --bg-color: #E8F0FE;\n",
              "      --fill-color: #1967D2;\n",
              "      --hover-bg-color: #E2EBFA;\n",
              "      --hover-fill-color: #174EA6;\n",
              "      --disabled-fill-color: #AAA;\n",
              "      --disabled-bg-color: #DDD;\n",
              "  }\n",
              "\n",
              "  [theme=dark] .colab-df-quickchart {\n",
              "      --bg-color: #3B4455;\n",
              "      --fill-color: #D2E3FC;\n",
              "      --hover-bg-color: #434B5C;\n",
              "      --hover-fill-color: #FFFFFF;\n",
              "      --disabled-bg-color: #3B4455;\n",
              "      --disabled-fill-color: #666;\n",
              "  }\n",
              "\n",
              "  .colab-df-quickchart {\n",
              "    background-color: var(--bg-color);\n",
              "    border: none;\n",
              "    border-radius: 50%;\n",
              "    cursor: pointer;\n",
              "    display: none;\n",
              "    fill: var(--fill-color);\n",
              "    height: 32px;\n",
              "    padding: 0;\n",
              "    width: 32px;\n",
              "  }\n",
              "\n",
              "  .colab-df-quickchart:hover {\n",
              "    background-color: var(--hover-bg-color);\n",
              "    box-shadow: 0 1px 2px rgba(60, 64, 67, 0.3), 0 1px 3px 1px rgba(60, 64, 67, 0.15);\n",
              "    fill: var(--button-hover-fill-color);\n",
              "  }\n",
              "\n",
              "  .colab-df-quickchart-complete:disabled,\n",
              "  .colab-df-quickchart-complete:disabled:hover {\n",
              "    background-color: var(--disabled-bg-color);\n",
              "    fill: var(--disabled-fill-color);\n",
              "    box-shadow: none;\n",
              "  }\n",
              "\n",
              "  .colab-df-spinner {\n",
              "    border: 2px solid var(--fill-color);\n",
              "    border-color: transparent;\n",
              "    border-bottom-color: var(--fill-color);\n",
              "    animation:\n",
              "      spin 1s steps(1) infinite;\n",
              "  }\n",
              "\n",
              "  @keyframes spin {\n",
              "    0% {\n",
              "      border-color: transparent;\n",
              "      border-bottom-color: var(--fill-color);\n",
              "      border-left-color: var(--fill-color);\n",
              "    }\n",
              "    20% {\n",
              "      border-color: transparent;\n",
              "      border-left-color: var(--fill-color);\n",
              "      border-top-color: var(--fill-color);\n",
              "    }\n",
              "    30% {\n",
              "      border-color: transparent;\n",
              "      border-left-color: var(--fill-color);\n",
              "      border-top-color: var(--fill-color);\n",
              "      border-right-color: var(--fill-color);\n",
              "    }\n",
              "    40% {\n",
              "      border-color: transparent;\n",
              "      border-right-color: var(--fill-color);\n",
              "      border-top-color: var(--fill-color);\n",
              "    }\n",
              "    60% {\n",
              "      border-color: transparent;\n",
              "      border-right-color: var(--fill-color);\n",
              "    }\n",
              "    80% {\n",
              "      border-color: transparent;\n",
              "      border-right-color: var(--fill-color);\n",
              "      border-bottom-color: var(--fill-color);\n",
              "    }\n",
              "    90% {\n",
              "      border-color: transparent;\n",
              "      border-bottom-color: var(--fill-color);\n",
              "    }\n",
              "  }\n",
              "</style>\n",
              "\n",
              "  <script>\n",
              "    async function quickchart(key) {\n",
              "      const quickchartButtonEl =\n",
              "        document.querySelector('#' + key + ' button');\n",
              "      quickchartButtonEl.disabled = true;  // To prevent multiple clicks.\n",
              "      quickchartButtonEl.classList.add('colab-df-spinner');\n",
              "      try {\n",
              "        const charts = await google.colab.kernel.invokeFunction(\n",
              "            'suggestCharts', [key], {});\n",
              "      } catch (error) {\n",
              "        console.error('Error during call to suggestCharts:', error);\n",
              "      }\n",
              "      quickchartButtonEl.classList.remove('colab-df-spinner');\n",
              "      quickchartButtonEl.classList.add('colab-df-quickchart-complete');\n",
              "    }\n",
              "    (() => {\n",
              "      let quickchartButtonEl =\n",
              "        document.querySelector('#df-6de09d4e-7d14-4b6f-a98f-f0cbd9014282 button');\n",
              "      quickchartButtonEl.style.display =\n",
              "        google.colab.kernel.accessAllowed ? 'block' : 'none';\n",
              "    })();\n",
              "  </script>\n",
              "</div>\n",
              "    </div>\n",
              "  </div>\n"
            ],
            "application/vnd.google.colaboratory.intrinsic+json": {
              "type": "dataframe",
              "variable_name": "core_genes_df",
              "summary": "{\n  \"name\": \"core_genes_df\",\n  \"rows\": 70,\n  \"fields\": [\n    {\n      \"column\": \"DBID\",\n      \"properties\": {\n        \"dtype\": \"string\",\n        \"num_unique_values\": 70,\n        \"samples\": [\n          \"ENSP00000295897\",\n          \"ENSP00000011653\",\n          \"ENSP00000362680\"\n        ],\n        \"semantic_type\": \"\",\n        \"description\": \"\"\n      }\n    },\n    {\n      \"column\": \"Ensembl ID\",\n      \"properties\": {\n        \"dtype\": \"string\",\n        \"num_unique_values\": 69,\n        \"samples\": [\n          \"ENSG00000163631\",\n          \"ENSG00000010610\",\n          \"ENSG00000100985\"\n        ],\n        \"semantic_type\": \"\",\n        \"description\": \"\"\n      }\n    },\n    {\n      \"column\": \"NAME\",\n      \"properties\": {\n        \"dtype\": \"string\",\n        \"num_unique_values\": 69,\n        \"samples\": [\n          \"ALB\",\n          \"CD4\",\n          \"MMP9\"\n        ],\n        \"semantic_type\": \"\",\n        \"description\": \"\"\n      }\n    },\n    {\n      \"column\": \"TOTAL_FREQUENCY\",\n      \"properties\": {\n        \"dtype\": \"number\",\n        \"std\": 15.67018373807701,\n        \"min\": 1.0,\n        \"max\": 92.0,\n        \"num_unique_values\": 24,\n        \"samples\": [\n          29.0,\n          7.0,\n          13.0\n        ],\n        \"semantic_type\": \"\",\n        \"description\": \"\"\n      }\n    },\n    {\n      \"column\": \"NUM_ARTICLES\",\n      \"properties\": {\n        \"dtype\": \"number\",\n        \"std\": 7.492287269587353,\n        \"min\": 1.0,\n        \"max\": 42.0,\n        \"num_unique_values\": 15,\n        \"samples\": [\n          7.0,\n          22.0,\n          6.0\n        ],\n        \"semantic_type\": \"\",\n        \"description\": \"\"\n      }\n    },\n    {\n      \"column\": \"ENTITY_TYPE\",\n      \"properties\": {\n        \"dtype\": \"category\",\n        \"num_unique_values\": 1,\n        \"samples\": [\n          \"Genes/Proteins\"\n        ],\n        \"semantic_type\": \"\",\n        \"description\": \"\"\n      }\n    },\n    {\n      \"column\": \"PMIDS_FREQUENCY\",\n      \"properties\": {\n        \"dtype\": \"string\",\n        \"num_unique_values\": 69,\n        \"samples\": [\n          \"23917144:2, 34228324:1\"\n        ],\n        \"semantic_type\": \"\",\n        \"description\": \"\"\n      }\n    },\n    {\n      \"column\": \"SYNONYMS\",\n      \"properties\": {\n        \"dtype\": \"string\",\n        \"num_unique_values\": 70,\n        \"samples\": [\n          \"1-HK2, Alb, albumin, Hsa, Pro2619, serum albumin\"\n        ],\n        \"semantic_type\": \"\",\n        \"description\": \"\"\n      }\n    },\n    {\n      \"column\": \"DBID_noLINKS\",\n      \"properties\": {\n        \"dtype\": \"string\",\n        \"num_unique_values\": 70,\n        \"samples\": [\n          \"ENSP00000295897\"\n        ],\n        \"semantic_type\": \"\",\n        \"description\": \"\"\n      }\n    }\n  ]\n}"
            }
          },
          "metadata": {},
          "execution_count": 14
        }
      ]
    },
    {
      "cell_type": "code",
      "source": [
        "# Iterate through each edgeR file in the directory\n",
        "for file_name in os.listdir(edgeR_directory):\n",
        "    if file_name.endswith('.csv'):\n",
        "        # Load the edgeR data\n",
        "        edgeR_df = pd.read_csv(os.path.join(edgeR_directory, file_name), sep=';')\n",
        "\n",
        "        # Filter edgeR data for genes present in the core genes list\n",
        "        filtered_edgeR_df = edgeR_df[edgeR_df['Ensembl ID'].isin(core_genes)]\n",
        "\n",
        "        # Count the number of genes present in the edgeR file\n",
        "        total_genes_present = len(filtered_edgeR_df)\n",
        "\n",
        "        # Count the number of genes with PValue < 0.05\n",
        "        genes_with_pvalue_lt_005 = (filtered_edgeR_df['PValue'] < 0.05).sum()\n",
        "\n",
        "        # Calculate the percentage of genes with PValue < 0.05\n",
        "        percentage = (genes_with_pvalue_lt_005 / total_genes_present) * 100 if total_genes_present > 0 else 0\n",
        "\n",
        "        # Append the core_summary_df to the list\n",
        "        core_summary_df.append({'Study Name': file_name,\n",
        "                        'Number of Genes Present': total_genes_present,\n",
        "                        'Number of genes with PValue <0.05': genes_with_pvalue_lt_005,\n",
        "                        'Percentage': percentage})\n",
        "\n",
        "# Create a DataFrame from the core_summary_df\n",
        "core_summary_df = pd.DataFrame(core_summary_df)\n",
        "\n",
        "#Drop duplicate rows\n",
        "core_summary_df = core_summary_df.drop_duplicates()\n",
        "\n",
        "core_summary_df.shape"
      ],
      "metadata": {
        "colab": {
          "base_uri": "https://localhost:8080/"
        },
        "id": "oVrr8DDe5Q5_",
        "outputId": "101b3445-5499-4149-e3a8-f44388336c4d"
      },
      "execution_count": 16,
      "outputs": [
        {
          "output_type": "execute_result",
          "data": {
            "text/plain": [
              "(87, 4)"
            ]
          },
          "metadata": {},
          "execution_count": 16
        }
      ]
    },
    {
      "cell_type": "code",
      "source": [
        "# Save the DataFrame to a CSV file\n",
        "core_summary_df.to_csv(\"/content/drive/MyDrive/Διπλωματική/Final_files/core_genes_summary.csv\", index=False)\n",
        "\n",
        "print(\"Summary saved to core_genes_summary.csv\")"
      ],
      "metadata": {
        "colab": {
          "base_uri": "https://localhost:8080/"
        },
        "id": "E2ENNLQD7e2N",
        "outputId": "96b25220-a50e-41f5-b27f-996c69b894bd"
      },
      "execution_count": 17,
      "outputs": [
        {
          "output_type": "stream",
          "name": "stdout",
          "text": [
            "Summary saved to core_genes_summary.csv\n"
          ]
        }
      ]
    }
  ]
}